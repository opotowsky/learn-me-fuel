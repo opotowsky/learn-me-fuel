{
 "cells": [
  {
   "cell_type": "code",
   "execution_count": 35,
   "metadata": {},
   "outputs": [],
   "source": [
    "import numpy as np\n",
    "import pandas as pd\n",
    "import matplotlib.pyplot as plt\n",
    "import scipy.stats as stats\n",
    "import statsmodels.api as sm\n",
    "from sklearn.preprocessing import scale\n",
    "from statsmodels.base.model import GenericLikelihoodModel\n",
    "%matplotlib inline"
   ]
  },
  {
   "cell_type": "code",
   "execution_count": 37,
   "metadata": {},
   "outputs": [],
   "source": [
    "def splitXY(dfXY):\n",
    "    lbls = ['ReactorType', 'CoolingTime', 'Enrichment', 'Burnup', 'OrigenReactor']\n",
    "    dfX = dfXY.drop(lbls, axis=1)\n",
    "    if 'total' in dfX.columns:\n",
    "        dfX.drop('total', axis=1, inplace=True)\n",
    "    r_dfY = dfXY.loc[:, lbls[0]]\n",
    "    c_dfY = dfXY.loc[:, lbls[1]]\n",
    "    e_dfY = dfXY.loc[:, lbls[2]]\n",
    "    b_dfY = dfXY.loc[:, lbls[3]]\n",
    "    o_dfY = dfXY.loc[:, lbls[4]]\n",
    "    return dfX, r_dfY, c_dfY, e_dfY, b_dfY, o_dfY"
   ]
  },
  {
   "cell_type": "code",
   "execution_count": 38,
   "metadata": {},
   "outputs": [],
   "source": [
    "pklfile = '../learn/pkl_trainsets/28jun2019/_nucs_fissact_not-scaled.pkl'\n",
    "trainXY = pd.read_pickle(pklfile)\n",
    "trainXY.reset_index(inplace=True, drop=True)\n",
    "trainXY = trainXY.sample(frac=0.5)\n",
    "X, rY, cY, eY, bY, oY = splitXY(trainXY)\n",
    "#X = scale(X)"
   ]
  },
  {
   "cell_type": "markdown",
   "metadata": {},
   "source": [
    "# ML Calculation\n",
    "## Likelihoods of each observation calculated for a given input"
   ]
  },
  {
   "cell_type": "code",
   "execution_count": null,
   "metadata": {},
   "outputs": [],
   "source": []
  },
  {
   "cell_type": "code",
   "execution_count": null,
   "metadata": {},
   "outputs": [],
   "source": []
  },
  {
   "cell_type": "code",
   "execution_count": null,
   "metadata": {},
   "outputs": [],
   "source": []
  },
  {
   "cell_type": "code",
   "execution_count": null,
   "metadata": {},
   "outputs": [],
   "source": []
  },
  {
   "cell_type": "code",
   "execution_count": null,
   "metadata": {},
   "outputs": [],
   "source": []
  },
  {
   "cell_type": "markdown",
   "metadata": {},
   "source": [
    "# ML Estimation\n",
    "## Coefficients of linear models estimated\n",
    "This example is done with dependent variable = burnup"
   ]
  },
  {
   "cell_type": "code",
   "execution_count": 36,
   "metadata": {},
   "outputs": [],
   "source": [
    "class NormMod(GenericLikelihoodModel):\n",
    "    def __init__(self, endog, exog, **kwds):\n",
    "        super(NormMod, self).__init__(endog, exog, **kwds)\n",
    "    \n",
    "    def nloglikeobs(self, params):\n",
    "        beta = params\n",
    "        yhat = np.dot(self.exog, beta)\n",
    "        LL = stats.norm.logpdf(self.endog, loc=yhat)\n",
    "        return -LL\n",
    "    \n",
    "    def fit(self, start_params=None, maxiter=100000, maxfun=100000, **kwds):\n",
    "        if start_params == None:\n",
    "            start_params = np.zeros(self.exog.shape[1])\n",
    "            start_params[0] = np.log(self.endog.mean())\n",
    "        return super(NormMod, self).fit(start_params=start_params,\n",
    "                                        maxiter=maxiter, maxfun=maxfun,\n",
    "                                        **kwds)"
   ]
  },
  {
   "cell_type": "code",
   "execution_count": 39,
   "metadata": {},
   "outputs": [
    {
     "name": "stderr",
     "output_type": "stream",
     "text": [
      "/home/opotowsky/.local/lib/python3.6/site-packages/numpy/core/fromnumeric.py:2495: FutureWarning: Method .ptp is deprecated and will be removed in a future version. Use numpy.ptp instead.\n",
      "  return ptp(axis=axis, out=out, **kwargs)\n"
     ]
    }
   ],
   "source": [
    "y = bY\n",
    "X = sm.add_constant(X)"
   ]
  },
  {
   "cell_type": "code",
   "execution_count": 40,
   "metadata": {},
   "outputs": [
    {
     "data": {
      "text/plain": [
       "(12398, 48)"
      ]
     },
     "execution_count": 40,
     "metadata": {},
     "output_type": "execute_result"
    }
   ],
   "source": [
    "X.shape"
   ]
  },
  {
   "cell_type": "code",
   "execution_count": 41,
   "metadata": {},
   "outputs": [],
   "source": [
    "mod = NormMod(y, X)"
   ]
  },
  {
   "cell_type": "code",
   "execution_count": 42,
   "metadata": {},
   "outputs": [
    {
     "name": "stdout",
     "output_type": "stream",
     "text": [
      "Optimization terminated successfully.\n",
      "         Current function value: 267306.240103\n",
      "         Iterations: 36198\n",
      "         Function evaluations: 41431\n",
      "                               NormMod Results                                \n",
      "==============================================================================\n",
      "Dep. Variable:                 Burnup   Log-Likelihood:            -3.3141e+09\n",
      "Model:                        NormMod   AIC:                         6.628e+09\n",
      "Method:            Maximum Likelihood   BIC:                         6.628e+09\n",
      "Date:                Wed, 14 Aug 2019                                         \n",
      "Time:                        14:43:16                                         \n",
      "No. Observations:               12398                                         \n",
      "Df Residuals:                   12350                                         \n",
      "Df Model:                          47                                         \n",
      "==============================================================================\n",
      "                 coef    std err          z      P>|z|      [0.025      0.975]\n",
      "------------------------------------------------------------------------------\n",
      "const        9.45e+05        nan        nan        nan         nan         nan\n",
      "ba138        634.7368        nan        nan        nan         nan         nan\n",
      "ce140       1433.6703        nan        nan        nan         nan         nan\n",
      "ce142       -313.6561        nan        nan        nan         nan         nan\n",
      "ce144       -194.3627        nan        nan        nan         nan         nan\n",
      "cs133       -215.7870        nan        nan        nan         nan         nan\n",
      "cs135         79.4644        nan        nan        nan         nan         nan\n",
      "cs137        233.7625        nan        nan        nan         nan         nan\n",
      "la139      -2357.1385        nan        nan        nan         nan         nan\n",
      "mo100        -30.7062        nan        nan        nan         nan         nan\n",
      "mo95        -924.6220        nan        nan        nan         nan         nan\n",
      "mo97        -534.1952        nan        nan        nan         nan         nan\n",
      "mo98          65.6678        nan        nan        nan         nan         nan\n",
      "nd143       -178.4230        nan        nan        nan         nan         nan\n",
      "nd144       1137.8295        nan        nan        nan         nan         nan\n",
      "nd145        462.7628        nan        nan        nan         nan         nan\n",
      "nd146        318.1958        nan        nan        nan         nan         nan\n",
      "pd104        162.7717        nan        nan        nan         nan         nan\n",
      "pd105        316.5419        nan        nan        nan         nan         nan\n",
      "pd106        210.7520        nan        nan        nan         nan         nan\n",
      "pr141       -348.0958        nan        nan        nan         nan         nan\n",
      "pu239       -277.1635        nan        nan        nan         nan         nan\n",
      "pu240        403.6887        nan        nan        nan         nan         nan\n",
      "pu241        382.7074        nan        nan        nan         nan         nan\n",
      "pu242        -26.9677        nan        nan        nan         nan         nan\n",
      "rb87         604.5476        nan        nan        nan         nan         nan\n",
      "rh103        199.9235        nan        nan        nan         nan         nan\n",
      "ru101       -400.4230        nan        nan        nan         nan         nan\n",
      "ru102        586.6411        nan        nan        nan         nan         nan\n",
      "ru104       -332.4989        nan        nan        nan         nan         nan\n",
      "sr88          16.8508        nan        nan        nan         nan         nan\n",
      "sr90        -227.9181        nan        nan        nan         nan         nan\n",
      "tc99         567.2300        nan        nan        nan         nan         nan\n",
      "te130       -138.4691        nan        nan        nan         nan         nan\n",
      "u234          32.8077        nan        nan        nan         nan         nan\n",
      "u235        -246.5802        nan        nan        nan         nan         nan\n",
      "u236         331.1481        nan        nan        nan         nan         nan\n",
      "u238        -224.2917        nan        nan        nan         nan         nan\n",
      "xe131         59.0274        nan        nan        nan         nan         nan\n",
      "xe132        699.3825        nan        nan        nan         nan         nan\n",
      "xe134       -674.9901        nan        nan        nan         nan         nan\n",
      "xe136       -150.9380        nan        nan        nan         nan         nan\n",
      "y89           38.3864        nan        nan        nan         nan         nan\n",
      "zr91        -196.3016        nan        nan        nan         nan         nan\n",
      "zr92        -585.7444        nan        nan        nan         nan         nan\n",
      "zr93         336.8203        nan        nan        nan         nan         nan\n",
      "zr94        -414.7363        nan        nan        nan         nan         nan\n",
      "zr96        -748.1091        nan        nan        nan         nan         nan\n",
      "==============================================================================\n"
     ]
    },
    {
     "name": "stderr",
     "output_type": "stream",
     "text": [
      "/home/opotowsky/.local/lib/python3.6/site-packages/statsmodels/base/model.py:492: HessianInversionWarning: Inverting hessian failed, no bse or cov_params available\n",
      "  'available', HessianInversionWarning)\n",
      "/home/opotowsky/.local/lib/python3.6/site-packages/scipy/stats/_distn_infrastructure.py:901: RuntimeWarning: invalid value encountered in greater\n",
      "  return (a < x) & (x < b)\n",
      "/home/opotowsky/.local/lib/python3.6/site-packages/scipy/stats/_distn_infrastructure.py:901: RuntimeWarning: invalid value encountered in less\n",
      "  return (a < x) & (x < b)\n",
      "/home/opotowsky/.local/lib/python3.6/site-packages/scipy/stats/_distn_infrastructure.py:1892: RuntimeWarning: invalid value encountered in less_equal\n",
      "  cond2 = cond0 & (x <= _a)\n"
     ]
    }
   ],
   "source": [
    "res = mod.fit()\n",
    "print(res.summary())"
   ]
  },
  {
   "cell_type": "code",
   "execution_count": null,
   "metadata": {},
   "outputs": [],
   "source": []
  }
 ],
 "metadata": {
  "kernelspec": {
   "display_name": "Python 3",
   "language": "python",
   "name": "python3"
  },
  "language_info": {
   "codemirror_mode": {
    "name": "ipython",
    "version": 3
   },
   "file_extension": ".py",
   "mimetype": "text/x-python",
   "name": "python",
   "nbconvert_exporter": "python",
   "pygments_lexer": "ipython3",
   "version": "3.6.8"
  }
 },
 "nbformat": 4,
 "nbformat_minor": 2
}
